{
  "cells": [
    {
      "cell_type": "code",
      "execution_count": 1,
      "metadata": {
        "id": "xSHC5SD2r5RK"
      },
      "outputs": [],
      "source": [
        "import pandas as pd\n",
        "from sklearn.model_selection import train_test_split\n",
        "from sklearn.preprocessing import LabelEncoder, StandardScaler\n",
        "from sklearn.ensemble import RandomForestClassifier\n",
        "from sklearn.metrics import accuracy_score, precision_score, recall_score, f1_score, roc_auc_score"
      ]
    },
    {
      "cell_type": "code",
      "execution_count": 2,
      "metadata": {},
      "outputs": [],
      "source": [
        "df_sample = pd.read_csv(\"Data_Set.csv\")"
      ]
    },
    {
      "cell_type": "markdown",
      "metadata": {},
      "source": [
        "### Feauter Engineering"
      ]
    },
    {
      "cell_type": "code",
      "execution_count": 3,
      "metadata": {},
      "outputs": [],
      "source": [
        "import pandas as pd\n",
        "from sklearn.utils import resample\n",
        "\n",
        "def balance_fraud_data(df_sample, fraud_column='Fraud Flag'):\n",
        "    # Separate the fraud and non-fraud cases\n",
        "    fraud_df = df_sample[df_sample[fraud_column] == 1]\n",
        "    non_fraud_df = df_sample[df_sample[fraud_column] == 0]\n",
        "\n",
        "    # Get the counts of fraud and non-fraud cases\n",
        "    fraud_count = fraud_df.shape[0]\n",
        "    non_fraud_count = non_fraud_df.shape[0]\n",
        "\n",
        "    # If non-fraud is larger, we downsample it to match fraud count, else we upsample fraud\n",
        "    if non_fraud_count > fraud_count:\n",
        "        non_fraud_df_downsampled = resample(non_fraud_df, \n",
        "                                            replace=False,    # sample without replacement\n",
        "                                            n_samples=fraud_count,   # match fraud count\n",
        "                                            random_state=42)\n",
        "        balanced_df = pd.concat([fraud_df, non_fraud_df_downsampled])\n",
        "    else:\n",
        "        fraud_df_upsampled = resample(fraud_df, \n",
        "                                      replace=True,    # sample with replacement\n",
        "                                      n_samples=non_fraud_count,   # match non-fraud count\n",
        "                                      random_state=42)\n",
        "        balanced_df = pd.concat([fraud_df_upsampled, non_fraud_df])\n",
        "\n",
        "    return balanced_df\n",
        "data = balance_fraud_data(df_sample)"
      ]
    },
    {
      "cell_type": "code",
      "execution_count": 4,
      "metadata": {},
      "outputs": [
        {
          "data": {
            "text/plain": [
              "Fraud Flag\n",
              "True     75942\n",
              "False    75942\n",
              "Name: count, dtype: int64"
            ]
          },
          "execution_count": 4,
          "metadata": {},
          "output_type": "execute_result"
        }
      ],
      "source": [
        "data['Fraud Flag'].value_counts()"
      ]
    },
    {
      "cell_type": "code",
      "execution_count": 5,
      "metadata": {},
      "outputs": [],
      "source": [
        "# Sample regular expressions to extract device_type, os, and browser\n",
        "data['device_type'] = data['Device Information'].str.extract(r\"'device_type': '([^']+)'\")\n",
        "data['os'] = data['Device Information'].str.extract(r\"'browser': '\\(?([a-zA-Z]+)\")\n",
        "data['browser'] = data['Device Information'].str.extract(r\"'os': '([^/]+)\")"
      ]
    },
    {
      "cell_type": "code",
      "execution_count": 6,
      "metadata": {},
      "outputs": [],
      "source": [
        "data['Transaction Date/Time'] = pd.to_datetime(data['Transaction Date/Time'])\n",
        "data['Day'] = data['Transaction Date/Time'].dt.day\n",
        "data['Hour'] = data['Transaction Date/Time'].dt.hour\n",
        "data['Minute'] = data['Transaction Date/Time'].dt.minute\n"
      ]
    },
    {
      "cell_type": "code",
      "execution_count": 7,
      "metadata": {
        "colab": {
          "base_uri": "https://localhost:8080/"
        },
        "id": "6dunT5tv0nJN",
        "outputId": "d6daa341-b1cc-4b56-f659-6da4ed6900f8"
      },
      "outputs": [
        {
          "name": "stderr",
          "output_type": "stream",
          "text": [
            "C:\\Users\\shere\\AppData\\Local\\Temp\\ipykernel_12728\\717225588.py:12: FutureWarning: Setting an item of incompatible dtype is deprecated and will raise in a future error of pandas. Value '10948.619385228105' has dtype incompatible with int64, please explicitly cast to a compatible dtype first.\n",
            "  data.loc[index, 'Distance'] = geodesic((row['Latitude'], row['Longitude']), (0, 0)).kilometers\n"
          ]
        }
      ],
      "source": [
        "import pandas as pd\n",
        "from sklearn.model_selection import train_test_split\n",
        "from sklearn.preprocessing import LabelEncoder, StandardScaler\n",
        "from sklearn.ensemble import RandomForestClassifier\n",
        "from sklearn.metrics import accuracy_score, precision_score, recall_score, f1_score, roc_auc_score\n",
        "from geopy.distance import geodesic\n",
        "\n",
        "# Calculate distance between Latitude and Longitude \n",
        "data['Distance'] = 0\n",
        "for index, row in data.iterrows():\n",
        "  if pd.notna(row['Latitude']) and pd.notna(row['Longitude']):\n",
        "    data.loc[index, 'Distance'] = geodesic((row['Latitude'], row['Longitude']), (0, 0)).kilometers\n",
        "\n",
        "\n",
        "# Handle categorical features:\n",
        "le = LabelEncoder()\n",
        "categorical_cols = ['POS Entry Mode', 'Transaction Status', 'Merchant Category Code (MCC)', 'Merchant Rating', 'Transaction Type','os','browser',\n",
        "                    'browser','Income Bracket','Response Time','Transaction Notes']\n",
        "for col in categorical_cols:\n",
        "    data[col] = le.fit_transform(data[col])\n",
        "\n",
        "# Handle missing values \n",
        "data.fillna(0, inplace=True)\n"
      ]
    },
    {
      "cell_type": "code",
      "execution_count": 8,
      "metadata": {},
      "outputs": [
        {
          "data": {
            "text/plain": [
              "Index(['Transaction ID', 'Transaction Date/Time', 'Transaction Amount',\n",
              "       'Currency', 'Merchant Name', 'Merchant Category Code (MCC)', 'Location',\n",
              "       'Latitude', 'Longitude', 'Transaction Type', 'Authorization Code',\n",
              "       'Fraud Flag', 'Transaction Status', 'POS Entry Mode',\n",
              "       'Installment Information', 'Merchant ID', 'Terminal ID', 'IP Address',\n",
              "       'Device Information', 'Transaction Risk Score', 'Loyalty Points Earned',\n",
              "       'Transaction Notes', 'Cardholder's Income Bracket',\n",
              "       'Fraud Detection Method', 'Response Time', 'Merchant Rating',\n",
              "       'Recurring Transaction Flag', 'Customer ID', 'First Name', 'Last Name',\n",
              "       'Email', 'Phone Number', 'Address', 'City', 'Country', 'Birth Date',\n",
              "       'Income Bracket', 'Bank Name', 'Card Issuer Country',\n",
              "       'Transaction Channel', 'Cardholder's Age', 'Cardholder's Gender',\n",
              "       'Account Balance', 'Remaining Balance', 'Customer State',\n",
              "       'Customer Zip Code', 'Card Type', 'Card Expiration Date', 'Card Number',\n",
              "       'Card CVV', 'device_type', 'os', 'browser', 'Day', 'Hour', 'Minute',\n",
              "       'Distance'],\n",
              "      dtype='object')"
            ]
          },
          "execution_count": 8,
          "metadata": {},
          "output_type": "execute_result"
        }
      ],
      "source": [
        "data.columns"
      ]
    },
    {
      "cell_type": "markdown",
      "metadata": {},
      "source": [
        "### Modeling"
      ]
    },
    {
      "cell_type": "code",
      "execution_count": 9,
      "metadata": {},
      "outputs": [],
      "source": [
        "\n",
        "# Split data into features and target variable:\n",
        "X = data[['Transaction Amount', 'Transaction Risk Score', 'POS Entry Mode', 'Hour', 'Day','Minute','os','browser','Income Bracket',\n",
        "          'Transaction Status', 'Merchant Category Code (MCC)', 'Merchant Rating', 'Distance',\n",
        "          'Cardholder\\'s Age', 'Account Balance', 'Recurring Transaction Flag',\n",
        "          'Transaction Type','Transaction Notes','Remaining Balance']]\n",
        "\n",
        "categorical_cols = ['Transaction Type', 'Transaction Notes', 'Transaction Status', 'Income Bracket', 'POS Entry Mode', 'browser','os']\n",
        "\n",
        "numerical_cols = ['Transaction Amount', 'Transaction Risk Score', 'Account Balance', 'Recurring Transaction Flag', 'Hour', \n",
        "                  'Day', 'Minute', \"Cardholder's Age\", 'Remaining Balance', 'Merchant Rating', 'Distance','Merchant Category Code (MCC)']\n",
        "\n",
        "y = data['Fraud Flag']  # Assuming 'Fraudulent' is the target column\n",
        "\n",
        "# Split data into training and testing sets:\n",
        "X_train, X_test, y_train, y_test = train_test_split(X, y, test_size=0.2, random_state=42)\n",
        "\n",
        "# Standardize numerical features:\n",
        "scaler = StandardScaler()\n",
        "X_train_scaled = scaler.fit_transform(X_train)\n",
        "X_test_scaled = scaler.transform(X_test)\n",
        "\n"
      ]
    },
    {
      "cell_type": "code",
      "execution_count": 10,
      "metadata": {},
      "outputs": [],
      "source": [
        "param_grid = {\n",
        "    'n_estimators': [ 300,400,500],\n",
        "    'max_depth': [10, 20, 30, None],\n",
        "    'min_samples_split': [2, 5, 10],\n",
        "    'min_samples_leaf': [1, 2, 4],\n",
        "    'max_features': ['auto', 'sqrt']\n",
        "}"
      ]
    },
    {
      "cell_type": "code",
      "execution_count": 24,
      "metadata": {},
      "outputs": [],
      "source": [
        "rm=RandomForestClassifier(n_estimators=500, max_depth=50, min_samples_split=10, min_samples_leaf=4, max_features='sqrt', random_state=42)\n",
        "rm.fit(X_train_scaled, y_train)\n",
        "\n",
        "y_pred = rm.predict(X_test_scaled)"
      ]
    },
    {
      "cell_type": "code",
      "execution_count": 25,
      "metadata": {},
      "outputs": [],
      "source": [
        "y_pred = rm.predict(X_test_scaled)"
      ]
    },
    {
      "cell_type": "code",
      "execution_count": 27,
      "metadata": {},
      "outputs": [
        {
          "name": "stdout",
          "output_type": "stream",
          "text": [
            "Accuracy: 0.8529479540441781\n",
            "Precision: 0.7739416358405261\n",
            "Recall: 0.995572004494085\n",
            "F1-Score: 0.8708772944067062\n"
          ]
        }
      ],
      "source": [
        "# Evaluate the model\n",
        "accuracy = accuracy_score(y_test, y_pred)\n",
        "precision = precision_score(y_test, y_pred)\n",
        "recall = recall_score(y_test, y_pred)\n",
        "f1 = f1_score(y_test, y_pred)\n",
        "\n",
        "\n",
        "print(f\"Accuracy: {accuracy}\")\n",
        "print(f\"Precision: {precision}\")\n",
        "print(f\"Recall: {recall}\")\n",
        "print(f\"F1-Score: {f1}\")\n",
        "\n"
      ]
    },
    {
      "cell_type": "code",
      "execution_count": 28,
      "metadata": {
        "colab": {
          "base_uri": "https://localhost:8080/",
          "height": 564
        },
        "id": "FTGmQgLzVY9d",
        "outputId": "8ea34dee-d518-46e1-c143-5b7841b7581d"
      },
      "outputs": [
        {
          "data": {
            "image/png": "[encoded data removed]",
            "text/plain": [
              "<Figure size 800x600 with 2 Axes>"
            ]
          },
          "metadata": {},
          "output_type": "display_data"
        }
      ],
      "source": [
        "import matplotlib.pyplot as plt\n",
        "import seaborn as sns\n",
        "from sklearn.metrics import confusion_matrix\n",
        "# Create a confusion matrix\n",
        "cm = confusion_matrix(y_test, y_pred)\n",
        "# Plot the confusion matrix\n",
        "plt.figure(figsize=(8, 6))\n",
        "sns.heatmap(cm, annot=True, fmt='d', cmap='Blues')\n",
        "plt.xlabel('Predicted labels')\n",
        "plt.ylabel('True labels')\n",
        "plt.title('Confusion Matrix')\n",
        "plt.show()"
      ]
    },
    {
      "cell_type": "code",
      "execution_count": 29,
      "metadata": {},
      "outputs": [
        {
          "data": {
            "text/plain": [
              "['fraud_detection_model.pkl']"
            ]
          },
          "execution_count": 29,
          "metadata": {},
          "output_type": "execute_result"
        }
      ],
      "source": [
        "#save the model\n",
        "import joblib\n",
        "joblib.dump(rm, 'fraud_detection_model.pkl')"
      ]
    },
    {
      "cell_type": "code",
      "execution_count": null,
      "metadata": {},
      "outputs": [],
      "source": [
        "#load the model.pkl\n",
        "\n",
        "import joblib\n",
        "\n",
        "# Load the model\n",
        "model = joblib.load('fraud_detection_model.pkl')\n"
      ]
    }
  ],
  "metadata": {
    "colab": {
      "provenance": []
    },
    "kernelspec": {
      "display_name": "Python 3",
      "name": "python3"
    },
    "language_info": {
      "codemirror_mode": {
        "name": "ipython",
        "version": 3
      },
      "file_extension": ".py",
      "mimetype": "text/x-python",
      "name": "python",
      "nbconvert_exporter": "python",
      "pygments_lexer": "ipython3",
      "version": "3.11.9"
    }
  },
  "nbformat": 4,
  "nbformat_minor": 0
}
